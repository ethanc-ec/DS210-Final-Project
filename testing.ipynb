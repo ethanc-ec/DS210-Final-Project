{
 "cells": [
  {
   "cell_type": "code",
   "execution_count": 17,
   "metadata": {
    "vscode": {
     "languageId": "rust"
    }
   },
   "outputs": [],
   "source": [
    "use std::sync::{Arc, Mutex};\n",
    "use std::thread;\n",
    "\n",
    "fn main() {\n",
    "    let counter = Arc::new(Mutex::new(0));\n",
    "    let mut handles = vec![];\n",
    "\n",
    "    for _ in 0..10 {\n",
    "        let counter = Arc::clone(&counter);\n",
    "        let handle = thread::spawn(move || {\n",
    "            let mut num = counter.lock().unwrap();\n",
    "            println!(\"Thread: {}\", *num);\n",
    "            *num += 1;\n",
    "        });\n",
    "        handles.push(handle);\n",
    "    }\n",
    "\n",
    "    for handle in handles {\n",
    "        handle.join().unwrap();\n",
    "    }\n",
    "\n",
    "    println!(\"Result: {}\", *counter.lock().unwrap());\n",
    "}"
   ]
  },
  {
   "cell_type": "code",
   "execution_count": 18,
   "metadata": {
    "vscode": {
     "languageId": "rust"
    }
   },
   "outputs": [
    {
     "name": "stdout",
     "output_type": "stream",
     "text": [
      "Thread: 0\n",
      "Thread: 1\n",
      "Thread: 2\n",
      "Thread: 3\n",
      "Thread: 5\n",
      "Thread: 4\n",
      "Thread: 6\n",
      "Thread: 7\n",
      "Thread: 8\n",
      "Thread: 9\n",
      "Result: 10\n"
     ]
    }
   ],
   "source": [
    "main();"
   ]
  }
 ],
 "metadata": {
  "kernelspec": {
   "display_name": "Rust",
   "language": "rust",
   "name": "rust"
  },
  "language_info": {
   "codemirror_mode": "rust",
   "file_extension": ".rs",
   "mimetype": "text/rust",
   "name": "Rust",
   "pygment_lexer": "rust",
   "version": ""
  },
  "orig_nbformat": 4
 },
 "nbformat": 4,
 "nbformat_minor": 2
}
